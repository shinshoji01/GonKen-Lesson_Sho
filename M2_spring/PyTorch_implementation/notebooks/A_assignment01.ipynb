{
 "cells": [
  {
   "cell_type": "code",
   "execution_count": 7,
   "metadata": {},
   "outputs": [],
   "source": [
    "import warnings\n",
    "warnings.filterwarnings(\"ignore\")\n",
    "import torch\n",
    "import torchvision.transforms as transforms\n",
    "import numpy as np\n",
    "import glob\n",
    "import matplotlib.pyplot as plt\n",
    "from PIL import Image"
   ]
  },
  {
   "cell_type": "code",
   "execution_count": 8,
   "metadata": {},
   "outputs": [],
   "source": [
    "import sys\n",
    "sys.path.append(\"../pyfiles/\")\n",
    "from util import MinMax, image_from_output\n",
    "from util_assignment import transform"
   ]
  },
  {
   "cell_type": "markdown",
   "metadata": {},
   "source": [
    "# Introduction\n",
    "---\n",
    "課題は、データセットの実装とモデルの構造定義から構成されています。\n",
    "その中でも前者の課題をこのノートブックで行います。\n",
    "空欄を埋めて提出してください。\n",
    "授業では使っていない[fashion_dataset2](https://drive.google.com/drive/folders/1YmKP_K9b9ZsZNWonA0t9FuDp6OSH16yW?usp=sharing)を用いるので、`00_build_dataset2.ipynb`を使って作成しておいてください．\n",
    "\n",
    "---\n",
    "Your assignment includes dataset implementation and model structuring. This notebook contains a form of the former homework, so please submit this notebook for evaluation. It requires [fashion_dataset2](https://drive.google.com/drive/folders/1YmKP_K9b9ZsZNWonA0t9FuDp6OSH16yW?usp=sharing), so please visit `00_build_dataset2.ipynb` to build it.\n",
    "\n",
    "---"
   ]
  },
  {
   "cell_type": "markdown",
   "metadata": {},
   "source": [
    "# Fashion_dataset2\n",
    "---\n",
    "データセットの構成はほとんどfashion_dataset1と同じです。\n",
    "異なるのは、クラスのフォルダの名前だけです。\n",
    "クラス番号の代わりに、クラスのラベル名になっています。\n",
    "\n",
    "---\n",
    "The major features are almost the same except for the name of folder. Class labels are employed as the name instead of class id (number). The tree structure is:\n",
    "```\n",
    "fashion_dataset2\n",
    "├── T-shirt \n",
    "│   ├── 0_0001.png\n",
    "│   ├── 0_0002.png\n",
    "│   └── ...\n",
    "├── Trouser\n",
    "│   ├── 0_0001.png\n",
    "│   ├── 0_0002.png\n",
    "│   └── ...\n",
    "├── Dress\n",
    "│   ├── 0_0001.png\n",
    "│   ├── 0_0002.png\n",
    "│   └── ...\n",
    "├── ...\n",
    "```\n",
    "\n",
    "---"
   ]
  },
  {
   "cell_type": "markdown",
   "metadata": {},
   "source": [
    "# Homework 1: Dataset Modification\n",
    "---\n",
    "この課題では、履物のクラス（sandals, sneakers, and ankle boots）だけを抽出するために、データセット関数の変更をすることです。\n",
    "このセルから下の２つのセルが変更対象で、変更する部分は強調してあります。\n",
    "`01_classification.ipynb`を参考にして頑張ってください。\n",
    "\n",
    "**ヒント: \"class_labels\" が引数に追加されています。**\n",
    "\n",
    "---\n",
    "In the first assignment, you are tasked with modifying dataset function to extract data that belong to footwear classes, which include sandals, sneakers, and ankle boots. The cells you need to modify are just two and I underscored the part you should change or add. Please refer to the lesson notebook `01_classification.ipynb` for some clues.\n",
    "\n",
    "**Hint: \"class_labels\" is added to arguments.**\n",
    "\n",
    "---"
   ]
  },
  {
   "cell_type": "code",
   "execution_count": 9,
   "metadata": {},
   "outputs": [],
   "source": [
    "class Dataset_Fashion_MNIST(torch.utils.data.Dataset):\n",
    "    def __init__(self, root, classes, class_labels, mode=\"train\", transform=None, balance=[0.7,0.15,0.15], each_data_num=10000000):\n",
    "        # Hint: \"class_labels\" is added to arguments.\n",
    "        \n",
    "        self.transform = transform\n",
    "        self.images = []\n",
    "        self.labels = []\n",
    "\n",
    "        images = {} \n",
    "        labels = {}\n",
    "        \n",
    "        for cl in classes:\n",
    "            \n",
    "            # -------------- add the code below ------------------- #\n",
    "            # ----------------------------------------------------- #\n",
    "            path_list.sort()\n",
    "            path_list = path_list[:each_data_num]\n",
    "            \n",
    "            train_num = int(balance[0]*len(path_list))\n",
    "            val_num = int(balance[1]*len(path_list))\n",
    "            test_num = int(balance[2]*len(path_list))\n",
    "            \n",
    "            if mode==\"train\":\n",
    "                path_list = path_list[:train_num]\n",
    "            elif mode==\"val\":\n",
    "                path_list = path_list[train_num:train_num+val_num]\n",
    "            elif mode==\"test\":\n",
    "                path_list = path_list[-test_num:]\n",
    "                \n",
    "            images[str(cl)] = path_list\n",
    "            labels[str(cl)] = [cl]*len(path_list)\n",
    "            \n",
    "        # combine them together\n",
    "        for label in classes:\n",
    "            for image, label in zip(images[str(label)], labels[str(label)]):\n",
    "                self.images.append(image)\n",
    "                self.labels.append(label)\n",
    "\n",
    "    def __getitem__(self, index):\n",
    "        \n",
    "        image = self.images[index]\n",
    "        label = self.labels[index]\n",
    "        \n",
    "        with open(image, 'rb') as f:\n",
    "            image = Image.open(f)\n",
    "            image = image.convert(\"L\")\n",
    "        \n",
    "        if self.transform is not None:\n",
    "            image = self.transform(image)\n",
    "            \n",
    "        return image, label\n",
    "    \n",
    "    def __len__(self):\n",
    "        return len(self.images)"
   ]
  },
  {
   "cell_type": "code",
   "execution_count": 18,
   "metadata": {},
   "outputs": [],
   "source": [
    "# -------------- modify the code below ------------------- #\n",
    "class_labels = [\"T-shirt\", \"Trouser\", \"Dress\", \"Coat\", \"Sandal\", \"Sneaker\", \"Bag\", \"Ankle_boot\"]\n",
    "# -------------------------------------------------------- #\n",
    "\n",
    "root = \"../dataset/fashion-MNIST/fashion_dataset2/\"\n",
    "classes = range(len(class_labels))"
   ]
  },
  {
   "cell_type": "markdown",
   "metadata": {},
   "source": [
    "---\n",
    "以下のコードを実行して、実装のチェックをしてみましょう。出力結果が以下のようになれば成功です。\n",
    "\n",
    "---\n",
    "Run the code below to check your implementation. The output should be:\n",
    "\n",
    "<img src=\"./../data/images/answer1.png\" width=\"300\">\n",
    "\n",
    "---"
   ]
  },
  {
   "cell_type": "code",
   "execution_count": null,
   "metadata": {},
   "outputs": [],
   "source": [
    "dataset = Dataset_Fashion_MNIST(root, classes, class_labels, \"test\", transform[\"test\"], each_data_num=2000)\n",
    "display_num = 4\n",
    "each_num = int(len(dataset)/len(classes))\n",
    "fig = plt.figure(figsize=(3.75*len(classes), display_num*4))\n",
    "for i in range(display_num):\n",
    "    for cl in classes:\n",
    "        ax = fig.add_subplot(display_num, len(classes), len(classes)*i+cl+1)\n",
    "        index = i + cl*each_num\n",
    "        x, label = dataset[index]\n",
    "        ax.imshow(image_from_output(x)[0])\n",
    "        ax.set_title(f\"{class_labels[cl]}\", fontsize=20)"
   ]
  }
 ],
 "metadata": {
  "kernelspec": {
   "display_name": "Python 3 (ipykernel)",
   "language": "python",
   "name": "python3"
  },
  "language_info": {
   "codemirror_mode": {
    "name": "ipython",
    "version": 3
   },
   "file_extension": ".py",
   "mimetype": "text/x-python",
   "name": "python",
   "nbconvert_exporter": "python",
   "pygments_lexer": "ipython3",
   "version": "3.8.10"
  }
 },
 "nbformat": 4,
 "nbformat_minor": 4
}
